{
  "nbformat": 4,
  "nbformat_minor": 0,
  "metadata": {
    "colab": {
      "name": "Untitled2.ipynb",
      "provenance": [],
      "authorship_tag": "ABX9TyMuAZrGhculOIOZEOOf+z4p",
      "include_colab_link": true
    },
    "kernelspec": {
      "name": "python3",
      "display_name": "Python 3"
    }
  },
  "cells": [
    {
      "cell_type": "markdown",
      "metadata": {
        "id": "view-in-github",
        "colab_type": "text"
      },
      "source": [
        "<a href=\"https://colab.research.google.com/github/armstrongg1/Prevendo-Campeao-Brasileirao/blob/master/main.ipynb\" target=\"_parent\"><img src=\"https://colab.research.google.com/assets/colab-badge.svg\" alt=\"Open In Colab\"/></a>"
      ]
    },
    {
      "cell_type": "code",
      "metadata": {
        "id": "zVjum1Gaighn",
        "colab_type": "code",
        "colab": {}
      },
      "source": [
        "import warnings\n",
        "warnings.filterwarnings('ignore')    \n",
        "import matplotlib.pyplot as plt\n",
        "import matplotlib\n",
        "matplotlib.use(\"Agg\") #Needed to save figures\n",
        "import pandas as pd\n",
        "import numpy as np"
      ],
      "execution_count": 1,
      "outputs": []
    },
    {
      "cell_type": "code",
      "metadata": {
        "id": "kQfoW3hVihNQ",
        "colab_type": "code",
        "colab": {}
      },
      "source": [
        "def clean_currency(x):\n",
        "    \"\"\" If the value is a string, then remove currency symbol and delimiters\n",
        "    otherwise, the value is numeric and can be converted\n",
        "    \"\"\"\n",
        "    #print (x)\n",
        "    if x is not None:\n",
        "        #x.replace('€', '').replace(',', '')\n",
        "        posicao_parenteses_T = str(x).find(\"T\")   \n",
        "                                \n",
        "        posicao_parenteses_M = str(x).find(\"m\")   \n",
        "        \n",
        "        if posicao_parenteses_T != -1: \n",
        "            #x = x[1:posicao_parenteses_T]\n",
        "            #x = float(x)*1000\n",
        "            x=0\n",
        "                                \n",
        "        if posicao_parenteses_M != -1: \n",
        "            #if x[0].isdigit():\n",
        "                #x = x[0:posicao_parenteses_M-1]\n",
        "                #x = float(x)*1000000\n",
        "            #elif x[1].isdigit():\n",
        "                #x = x[1:posicao_parenteses_M-1]\n",
        "                #x = float(x)*1000000\n",
        "            x =1\n",
        "        #print (str(x).find('.'))\n",
        "    '''    \n",
        "    if str(x).find('.') == 1:\n",
        "        \n",
        "        x = x * 1000000\n",
        "        \n",
        "    elif str(x).find('.') == 2:        \n",
        "        x = x * 10       \n",
        "    '''\n",
        "    #print(x)\n",
        "    #x = round(x,0)\n",
        "    #print (x)\n",
        "    return(x)\n"
      ],
      "execution_count": 2,
      "outputs": []
    },
    {
      "cell_type": "code",
      "metadata": {
        "id": "dxSHedGlih3Q",
        "colab_type": "code",
        "colab": {}
      },
      "source": [
        "\n",
        "#carrega planilha recuperada dos dados de todos os jogos de todos os jogadores em ativa\n",
        "jogadores_desempenho_treino_inicial_0 = pd.read_csv('jogadores_seriaA_2020_desempenho_por_data.csv', index_col=0)\n",
        "\n",
        "jogadores_desempenho_treino_inicial_1 = jogadores_desempenho_treino_inicial_0.drop(np.where(jogadores_desempenho_treino_inicial_0['jogador_data_jogo'] > '2019-01-01')[0])\n",
        "\n",
        "jogadores_desempenho_teste_inicial_1 = jogadores_desempenho_treino_inicial_0.drop(np.where(jogadores_desempenho_treino_inicial_0['jogador_data_jogo'] < '2019-01-01')[0])\n"
      ],
      "execution_count": 3,
      "outputs": []
    },
    {
      "cell_type": "code",
      "metadata": {
        "id": "LyDiWzJoih72",
        "colab_type": "code",
        "colab": {}
      },
      "source": [
        "jogadores_desempenho_treino = jogadores_desempenho_treino_inicial_1.filter([\n",
        "'jogador_valor_de_mercado',\n",
        "'jogador_time_visitante',\n",
        "'jogador_time_casa',\n",
        "'jogador_time',\n",
        "'jogador_rodada_jogo',\n",
        "'jogador_posicao',\n",
        "'jogador_nacionalidade',\n",
        "'jogador_idade',\n",
        "'jogador_id',\n",
        "'jogador_gols_convocacoes',\n",
        "'jogador_convocacoes',\n",
        "'jogador_altura',\n",
        "'jogador_media_de_pontos',\n",
        "'jogador_media_minutos_em_campo',\n",
        "'jogador_media_gols_no_jogo',\n",
        "'jogador_media_assistencias_no_jogo',\n",
        "'jogador_joga_casa',\n",
        "'jogador_media_quantidade_cartoes_primeiro_amarelo',\n",
        "'jogador_media_quantidade_cartoes_segundo_amarelo',\n",
        "'jogador_media_quantidade_cartoes_vermelho',\n",
        "'jogador_media_vitorias',\n",
        "'jogador_vendido',\n",
        "'jogador_pontos',\n",
        "'jogador_time_atual_partida',\n",
        "'jogador_minutos_em_campo',\n",
        "'jogador_gols_no_jogo',\n",
        "'jogador_assistencias_no_jogo',\n",
        "'jogador_primeiro_amarelo',\n",
        "'jogador_segundo_amarelo',\n",
        "'jogador_vermelho',\n",
        "'vencedor'\n",
        "#'time_media_gols_casa',\n",
        "#'time_media_gols_fora'\n",
        "#'media_de_pontos_do_time',\n",
        "    ])"
      ],
      "execution_count": 4,
      "outputs": []
    },
    {
      "cell_type": "code",
      "metadata": {
        "id": "dvJDjzSgiiAH",
        "colab_type": "code",
        "colab": {}
      },
      "source": [
        "jogadores_desempenho_teste = jogadores_desempenho_teste_inicial_1.filter([\n",
        "'jogador_valor_de_mercado',\n",
        "'jogador_time_visitante',\n",
        "'jogador_time_casa',\n",
        "'jogador_time',\n",
        "'jogador_rodada_jogo',\n",
        "'jogador_posicao',\n",
        "'jogador_nacionalidade',\n",
        "'jogador_idade',\n",
        "'jogador_id',\n",
        "'jogador_gols_convocacoes',\n",
        "'jogador_convocacoes',\n",
        "'jogador_altura',\n",
        "'jogador_media_de_pontos',\n",
        "'jogador_media_minutos_em_campo',\n",
        "'jogador_media_gols_no_jogo',\n",
        "'jogador_media_assistencias_no_jogo',\n",
        "'jogador_joga_casa',\n",
        "'jogador_media_quantidade_cartoes_primeiro_amarelo',\n",
        "'jogador_media_quantidade_cartoes_segundo_amarelo',\n",
        "'jogador_media_quantidade_cartoes_vermelho',\n",
        "'jogador_media_vitorias',\n",
        "'jogador_vendido',\n",
        "'jogador_pontos',\n",
        "'jogador_time_atual_partida',\n",
        "'jogador_minutos_em_campo',\n",
        "'jogador_gols_no_jogo',\n",
        "'jogador_assistencias_no_jogo',\n",
        "'jogador_primeiro_amarelo',\n",
        "'jogador_segundo_amarelo',\n",
        "'jogador_vermelho',\n",
        "'vencedor'\n",
        "#'time_media_gols_casa',\n",
        "#'time_media_gols_fora'\n",
        "#'media_de_pontos_do_time',\n",
        "    ])"
      ],
      "execution_count": 5,
      "outputs": []
    },
    {
      "cell_type": "code",
      "metadata": {
        "id": "XjGepoHbiiDb",
        "colab_type": "code",
        "colab": {}
      },
      "source": [
        "#se não tenho estes dados, tenho que remover as linhas, já que são os dados principais\n",
        "jogadores_desempenho_treino.dropna(subset=['jogador_time_casa'],inplace=True)\n",
        "jogadores_desempenho_teste.dropna(subset=['jogador_time_casa'],inplace=True)\n",
        "\n",
        "\n",
        "#media na altura - transformo a virgual em ponto para fazer calculos\n",
        "jogadores_desempenho_treino['jogador_altura'] = jogadores_desempenho_treino['jogador_altura'].str.replace(',', '.')\n",
        "jogadores_desempenho_teste['jogador_altura'] = jogadores_desempenho_teste['jogador_altura'].str.replace(',', '.')\n",
        "\n",
        "\n",
        "#arruma campo altura\n",
        "jogadores_desempenho_treino['jogador_altura'] = jogadores_desempenho_treino['jogador_altura'].astype(float)\n",
        "jogadores_desempenho_teste['jogador_altura'] = jogadores_desempenho_teste['jogador_altura'].astype(float)\n",
        "\n",
        "#preenche altura faltantes com a media por posicao\n",
        "jogadores_desempenho_treino['jogador_altura'].fillna(jogadores_desempenho_treino.groupby('jogador_posicao')['jogador_altura'].transform('mean'), inplace = True)\n",
        "jogadores_desempenho_teste['jogador_altura'].fillna(jogadores_desempenho_teste.groupby('jogador_posicao')['jogador_altura'].transform('mean'), inplace = True)\n",
        "\n",
        "#delete jogador sem altura..tem um só com posicao forward\n",
        "jogadores_desempenho_treino.dropna(subset=['jogador_altura'],inplace=True)\n",
        "jogadores_desempenho_teste.dropna(subset=['jogador_altura'],inplace=True)\n",
        "\n",
        "#coloco zero para quem nunca foi pra seleção\n",
        "jogadores_desempenho_treino['jogador_gols_convocacoes'].fillna(0, inplace = True)\n",
        "jogadores_desempenho_treino['jogador_convocacoes'].fillna(0, inplace = True)\n",
        "\n",
        "jogadores_desempenho_teste['jogador_gols_convocacoes'].fillna(0, inplace = True)\n",
        "jogadores_desempenho_teste['jogador_convocacoes'].fillna(0, inplace = True)\n",
        "\n",
        "#time joga fora ou dentro de casa\n",
        "jogadores_desempenho_teste['jogador_joga_casa'] = np.where(jogadores_desempenho_teste['jogador_time_casa'].str.strip()==jogadores_desempenho_teste['jogador_time'].str.strip(), 1,0)\n",
        "jogadores_desempenho_treino['jogador_joga_casa'] = np.where(jogadores_desempenho_treino['jogador_time_casa'].str.strip()==jogadores_desempenho_treino['jogador_time'].str.strip(), 1,0)\n",
        "\n",
        "#verificando se jogador foi vendido ou não\n",
        "jogadores_desempenho_treino['jogador_vendido'] = np.where((jogadores_desempenho_treino['jogador_time']!=jogadores_desempenho_treino['jogador_time_casa']) & (jogadores_desempenho_treino['jogador_time']!=jogadores_desempenho_treino['jogador_time_visitante']), 1,0)\n",
        "jogadores_desempenho_teste['jogador_vendido'] = np.where((jogadores_desempenho_teste['jogador_time']!=jogadores_desempenho_teste['jogador_time_casa']) & (jogadores_desempenho_teste['jogador_time']!=jogadores_desempenho_teste['jogador_time_visitante']), 1,0)\n",
        "\n"
      ],
      "execution_count": 6,
      "outputs": []
    },
    {
      "cell_type": "code",
      "metadata": {
        "id": "9oPBXWmxiiGG",
        "colab_type": "code",
        "colab": {}
      },
      "source": [
        "jogadores_desempenho_treino['jogador_valor_de_mercado'] = jogadores_desempenho_treino['jogador_valor_de_mercado'].apply(clean_currency).astype(float)\n",
        "jogadores_desempenho_teste['jogador_valor_de_mercado'] = jogadores_desempenho_teste['jogador_valor_de_mercado'].apply(clean_currency).astype(float)\n",
        "\n",
        "\n",
        "\n",
        "#coloco preço nos jogadores de tres maneiras possíveis: primeira pegando time/posicao, segundo pegando só time, terceira pegando tudo\n",
        "jogadores_desempenho_treino['jogador_valor_de_mercado'].fillna(jogadores_desempenho_treino.groupby(['jogador_time', 'jogador_posicao'])['jogador_valor_de_mercado'].transform('median'), inplace = True)\n",
        "jogadores_desempenho_treino['jogador_valor_de_mercado'].fillna(jogadores_desempenho_treino.groupby('jogador_time')['jogador_valor_de_mercado'].transform('median'), inplace = True)\n",
        "jogadores_desempenho_treino['jogador_valor_de_mercado'].fillna(jogadores_desempenho_treino['jogador_valor_de_mercado'].median(), inplace = True)\n",
        "\n",
        "#coloco preço nos jogadores de tres maneiras possíveis: primeira pegando time/posicao, segundo pegando só time, terceira pegando tudo\n",
        "jogadores_desempenho_teste['jogador_valor_de_mercado'].fillna(jogadores_desempenho_teste.groupby(['jogador_time', 'jogador_posicao'])['jogador_valor_de_mercado'].transform('median'), inplace = True)\n",
        "jogadores_desempenho_teste['jogador_valor_de_mercado'].fillna(jogadores_desempenho_teste.groupby('jogador_time')['jogador_valor_de_mercado'].transform('median'), inplace = True)\n",
        "jogadores_desempenho_teste['jogador_valor_de_mercado'].fillna(jogadores_desempenho_teste['jogador_valor_de_mercado'].median(), inplace = True)\n"
      ],
      "execution_count": 7,
      "outputs": []
    },
    {
      "cell_type": "code",
      "metadata": {
        "id": "AaHy_qPyiiJN",
        "colab_type": "code",
        "colab": {}
      },
      "source": [
        "\n",
        "#colocando a media para algumas variaveis - media\n",
        "jogadores_desempenho_treino['jogador_media_de_pontos'] = jogadores_desempenho_treino.groupby('jogador_id')['jogador_pontos'].transform('mean').astype(int)\n",
        "jogadores_desempenho_treino['jogador_media_minutos_em_campo'] = jogadores_desempenho_treino.groupby('jogador_id')['jogador_minutos_em_campo'].transform('mean').astype(int)\n",
        "jogadores_desempenho_treino['jogador_media_gols_no_jogo'] = jogadores_desempenho_treino.groupby('jogador_id')['jogador_gols_no_jogo'].transform('mean').astype(int)\n",
        "jogadores_desempenho_treino['jogador_media_assistencias_no_jogo'] = jogadores_desempenho_treino.groupby('jogador_id')['jogador_assistencias_no_jogo'].transform('mean').astype(int)\n",
        "#media cartao amarelo\n",
        "jogadores_desempenho_treino['jogador_primeiro_amarelo'] = np.where(jogadores_desempenho_treino['jogador_primeiro_amarelo']==-1, 0,1)\n",
        "jogadores_desempenho_treino['jogador_media_quantidade_cartoes_primeiro_amarelo'] = jogadores_desempenho_treino.groupby('jogador_id')['jogador_primeiro_amarelo'].transform('mean').astype(int)\n",
        "#media segundo cartao amarelo\n",
        "jogadores_desempenho_treino['jogador_segundo_amarelo'] = np.where(jogadores_desempenho_treino['jogador_segundo_amarelo']==-1, 0,1)\n",
        "jogadores_desempenho_treino['jogador_media_quantidade_cartoes_segundo_amarelo'] = jogadores_desempenho_treino.groupby('jogador_id')['jogador_segundo_amarelo'].transform('mean').astype(int)\n",
        "#media cartao vermelho\n",
        "jogadores_desempenho_treino['jogador_vermelho'] = np.where(jogadores_desempenho_treino['jogador_vermelho']==-1, 0,1)\n",
        "jogadores_desempenho_treino['jogador_media_quantidade_cartoes_vermelho'] = jogadores_desempenho_treino.groupby('jogador_id')['jogador_vermelho'].transform('mean').astype(int)\n",
        "#media de vitorias do jogador\n",
        "jogadores_desempenho_treino['jogador_media_vitorias'] = np.where(jogadores_desempenho_treino['vencedor']==jogadores_desempenho_treino['jogador_time'], 1,0)\n",
        "jogadores_desempenho_treino['jogador_media_vitorias'] = jogadores_desempenho_treino.groupby('jogador_id')['jogador_media_vitorias'].transform('mean').astype(int)\n"
      ],
      "execution_count": 8,
      "outputs": []
    },
    {
      "cell_type": "code",
      "metadata": {
        "id": "uaTN39NviiLl",
        "colab_type": "code",
        "colab": {}
      },
      "source": [
        "\n",
        "#pegando as medias para variavel teste\n",
        "treino_agrupada_id_cheio = jogadores_desempenho_treino.filter([\n",
        "    'jogador_id',\n",
        "    'jogador_media_de_pontos',\n",
        "'jogador_media_minutos_em_campo',\n",
        "'jogador_media_gols_no_jogo',\n",
        "'jogador_media_assistencias_no_jogo',\n",
        "'jogador_media_quantidade_cartoes_primeiro_amarelo',\n",
        "'jogador_media_quantidade_cartoes_segundo_amarelo',\n",
        "'jogador_media_quantidade_cartoes_vermelho',\n",
        "'jogador_media_vitorias'\n",
        "    ])\n",
        "\n",
        "df = treino_agrupada_id_cheio.drop_duplicates('jogador_id', keep='last')\n",
        "df_2 = jogadores_desempenho_teste.drop_duplicates('jogador_id', keep='last')\n",
        "df_2 = df_2['jogador_id']\n",
        "\n",
        "treino_agrupada_id = pd.DataFrame()\n",
        "treino_agrupada_id['jogador_id'] = np.unique(jogadores_desempenho_treino['jogador_id'])\n",
        "jogadores_desempenho_teste = pd.merge(df, jogadores_desempenho_teste, on=['jogador_id'], how='right')\n",
        "\n"
      ],
      "execution_count": 9,
      "outputs": []
    },
    {
      "cell_type": "code",
      "metadata": {
        "id": "C8rEhz9CiiOC",
        "colab_type": "code",
        "colab": {}
      },
      "source": [
        "\n",
        "#colocando a media para algumas variaveis de jogadores que não existem no futuro, ou seja, em 2019 há novos jogadores - media\n",
        "jogadores_desempenho_teste['jogador_media_de_pontos'].fillna(jogadores_desempenho_teste.groupby('jogador_posicao')['jogador_pontos'].transform('mean').astype(int), inplace = True)\n",
        "jogadores_desempenho_teste['jogador_media_minutos_em_campo'].fillna(jogadores_desempenho_teste.groupby('jogador_posicao')['jogador_minutos_em_campo'].transform('mean').astype(int), inplace = True)\n",
        "jogadores_desempenho_teste['jogador_media_gols_no_jogo'].fillna(jogadores_desempenho_teste.groupby('jogador_posicao')['jogador_gols_no_jogo'].transform('mean').astype(int), inplace = True)\n",
        "jogadores_desempenho_teste['jogador_media_assistencias_no_jogo'].fillna(jogadores_desempenho_teste.groupby('jogador_posicao')['jogador_assistencias_no_jogo'].transform('mean').astype(int), inplace = True)\n",
        "#media cartao amarelo\n",
        "#jogadores_desempenho_teste['jogador_primeiro_amarelo'] = np.where(jogadores_desempenho_teste['jogador_primeiro_amarelo']==-1, 0,1)\n",
        "jogadores_desempenho_teste['jogador_media_quantidade_cartoes_primeiro_amarelo'].fillna(jogadores_desempenho_teste.groupby('jogador_posicao')['jogador_media_quantidade_cartoes_primeiro_amarelo'].transform('mean').astype(int), inplace = True)\n",
        "#media segundo cartao amarelo\n",
        "#jogadores_desempenho_teste['jogador_segundo_amarelo'] = np.where(jogadores_desempenho_treino['jogador_segundo_amarelo']==-1, 0,1)\n",
        "jogadores_desempenho_teste['jogador_media_quantidade_cartoes_segundo_amarelo'].fillna(jogadores_desempenho_teste.groupby('jogador_posicao')['jogador_media_quantidade_cartoes_segundo_amarelo'].transform('mean').astype(int), inplace = True)\n",
        "#media cartao vermelho\n",
        "#jogadores_desempenho_teste['jogador_vermelho'] = np.where(jogadores_desempenho_treino['jogador_vermelho']==-1, 0,1)\n",
        "jogadores_desempenho_teste['jogador_media_quantidade_cartoes_vermelho'].fillna(jogadores_desempenho_teste.groupby('jogador_posicao')['jogador_media_quantidade_cartoes_vermelho'].transform('mean').astype(int), inplace = True)\n",
        "\n",
        "jogadores_desempenho_teste['jogador_media_vitorias'].fillna(jogadores_desempenho_teste.groupby('jogador_time_atual_partida')['jogador_media_vitorias'].transform('mean').astype(int), inplace = True)\n",
        "#jogadores_desempenho_teste['jogador_media_vitorias'] = jogadores_desempenho_teste.groupby('jogador_time_atual')['jogador_posicao'].transform('mean')\n"
      ],
      "execution_count": 10,
      "outputs": []
    },
    {
      "cell_type": "code",
      "metadata": {
        "id": "ksjy33K8jOMg",
        "colab_type": "code",
        "colab": {}
      },
      "source": [
        "\n",
        "#ainda ficou um jogador sem minutos em campo\n",
        "jogadores_desempenho_treino.dropna(subset=['jogador_minutos_em_campo'],inplace=True)\n",
        "jogadores_desempenho_teste.dropna(subset=['jogador_minutos_em_campo'],inplace=True)\n",
        "\n",
        "Y_treino = pd.DataFrame(jogadores_desempenho_treino.filter(['jogador_pontos']) )"
      ],
      "execution_count": 11,
      "outputs": []
    },
    {
      "cell_type": "code",
      "metadata": {
        "id": "LavQ8x2zjQtF",
        "colab_type": "code",
        "colab": {}
      },
      "source": [
        "jogadores_desempenho_treino.drop([\n",
        "  #'jogador_vendido',\n",
        "         'jogador_minutos_em_campo',\n",
        "         #'jogador_media_minutos_em_campo',\n",
        "         'jogador_gols_no_jogo',\n",
        "         'jogador_assistencias_no_jogo',\n",
        "         'jogador_primeiro_amarelo',\n",
        "         'jogador_segundo_amarelo',\n",
        "         'jogador_vermelho',\n",
        "         'vencedor',\n",
        "         'jogador_pontos',\n",
        "         #'jogador_id',\n",
        "         #'jogador_valor_de_mercado',\n",
        "#'jogador_nacionalidade',\n",
        "#'jogador_idade',\n",
        "#'jogador_altura',\n",
        "#'jogador_time_visitante',\n",
        "#'jogador_time_casa',\n",
        "#'jogador_time',\n",
        "#'jogador_media_vitorias',\n",
        "#'jogador_media_de_pontos'\n",
        "         ], axis=1, inplace=True)\n",
        "\n",
        "Y_teste = pd.DataFrame(jogadores_desempenho_teste.filter(['jogador_pontos']))\n",
        "\n",
        "jogadores_desempenho_teste.drop([\n",
        "   #'jogador_vendido',\n",
        "         'jogador_minutos_em_campo',\n",
        "         #'jogador_media_minutos_em_campo',\n",
        "         'jogador_gols_no_jogo',\n",
        "         'jogador_assistencias_no_jogo',\n",
        "         'jogador_primeiro_amarelo',\n",
        "         'jogador_segundo_amarelo',\n",
        "         'jogador_vermelho',\n",
        "         'vencedor',\n",
        "         'jogador_pontos',\n",
        "         #'jogador_id',\n",
        "         #'jogador_valor_de_mercado',\n",
        "#'jogador_nacionalidade',\n",
        "#'jogador_idade',\n",
        "#'jogador_altura',\n",
        "#'jogador_time_visitante',\n",
        "#'jogador_time_casa',\n",
        "#'jogador_time',\n",
        "#'jogador_media_vitorias',\n",
        "#'jogador_media_de_pontos'\n",
        "         ], axis=1, inplace=True)"
      ],
      "execution_count": 12,
      "outputs": []
    },
    {
      "cell_type": "code",
      "metadata": {
        "id": "qlNoi3JhjUp5",
        "colab_type": "code",
        "colab": {}
      },
      "source": [
        "jogadores_desempenho_teste['jogador_media_de_pontos'] = jogadores_desempenho_teste['jogador_media_de_pontos'].astype(int)\n",
        "jogadores_desempenho_teste['jogador_media_vitorias'] = jogadores_desempenho_teste['jogador_media_vitorias'].astype(int)\n",
        "jogadores_desempenho_teste['jogador_media_quantidade_cartoes_vermelho'] = jogadores_desempenho_teste['jogador_media_quantidade_cartoes_vermelho'].astype(int)\n",
        "jogadores_desempenho_teste['jogador_media_quantidade_cartoes_segundo_amarelo'] = jogadores_desempenho_teste['jogador_media_quantidade_cartoes_segundo_amarelo'].astype(int)\n",
        "jogadores_desempenho_teste['jogador_media_quantidade_cartoes_primeiro_amarelo'] = jogadores_desempenho_teste['jogador_media_quantidade_cartoes_primeiro_amarelo'].astype(int)\n",
        "jogadores_desempenho_teste['jogador_media_assistencias_no_jogo'] = jogadores_desempenho_teste['jogador_media_assistencias_no_jogo'].astype(int)\n",
        "#jogadores_desempenho_teste['jogador_media_minutos_em_campo'] = jogadores_desempenho_teste['jogador_media_minutos_em_campo'].astype(int)\n",
        "jogadores_desempenho_teste['jogador_media_gols_no_jogo'] = jogadores_desempenho_teste['jogador_media_gols_no_jogo'].astype(int)\n",
        "\n",
        "#ainda ficou jogador sem time\n",
        "#jogadores_desempenho_treino['jogador_time'].fillna('Sem time',inplace=True)\n",
        "\n",
        "#verifica se tem alguma coisa faltando para treino\n",
        "missing_data_summary_treino2 = pd.DataFrame({'columns': jogadores_desempenho_treino.columns, 'types': jogadores_desempenho_treino.dtypes, \n",
        "                                     'missing(%)': jogadores_desempenho_treino.isnull().mean().round(4) * 100,   'unicos' : jogadores_desempenho_treino.nunique()})\n",
        "missing_data_summary_treino2.sort_values(by=['missing(%)'], inplace=True)\n",
        "\n",
        "#verifica se tem alguma coisa faltando para teste\n",
        "missing_data_summary_teste2 = pd.DataFrame({'columns': jogadores_desempenho_teste.columns, 'types': jogadores_desempenho_teste.dtypes, \n",
        "                                     'missing(%)': jogadores_desempenho_teste.isnull().mean().round(4) * 100,   'unicos' : jogadores_desempenho_teste.nunique()})\n",
        "missing_data_summary_teste2.sort_values(by=['missing(%)'], inplace=True)\n",
        "\n",
        "jogadores_filtrados_treino = jogadores_desempenho_treino \n",
        "\n",
        "jogadores_filtrados_teste = jogadores_desempenho_teste\n",
        "\n",
        "#validacao_1 = jogadores_filtrados_treino.groupby(['jogador_time_atual_partida','jogador_rodada_jogo']).agg({'jogador_time_atual_partida': 'count'}).rename(columns={'jogador_time_atual_partida':'jogador_time_atual_partida_count'}).reset_index()\n",
        "\n",
        "#passa tudo pra numerico (o que ainda não é)\n",
        "jogadores_filtrados_2_treino = pd.get_dummies(jogadores_filtrados_treino)\n",
        "jogadores_filtrados_2_teste = pd.get_dummies(jogadores_filtrados_teste)"
      ],
      "execution_count": 13,
      "outputs": []
    },
    {
      "cell_type": "code",
      "metadata": {
        "id": "HQIY_PsqjYYT",
        "colab_type": "code",
        "colab": {}
      },
      "source": [
        "\n",
        "#coloca na variavel para depois treinar o modelo\n",
        "X_treino = jogadores_filtrados_2_treino\n",
        "X_teste = jogadores_filtrados_2_teste"
      ],
      "execution_count": 14,
      "outputs": []
    },
    {
      "cell_type": "code",
      "metadata": {
        "id": "0-YysJtyjaQm",
        "colab_type": "code",
        "colab": {}
      },
      "source": [
        "#alinhar as colunas de teste e treino - isso pq algumas colunas na base de treino são criadas a mais ja que tem mais dados. Mas não sera utilizada na base de teste\n",
        "X_treino_2,X_teste_2 = X_treino.align(X_teste, join='left', axis=1, fill_value=0)\n"
      ],
      "execution_count": 15,
      "outputs": []
    },
    {
      "cell_type": "code",
      "metadata": {
        "id": "oxuuQtRCjbV6",
        "colab_type": "code",
        "colab": {}
      },
      "source": [
        "\n",
        "from sklearn.feature_selection import chi2,f_classif,mutual_info_classif,f_regression,SelectKBest,SelectFromModel\n",
        "from sklearn.metrics import accuracy_score,mean_absolute_error,f1_score\n",
        "from sklearn.linear_model import LinearRegression, Ridge, Lasso,LogisticRegression\n",
        "from sklearn.ensemble import RandomForestRegressor,RandomForestClassifier\n",
        "#from xgboost.sklearn import XGBClassifier  \n",
        "import xgboost as xgb\n",
        "from xgboost.sklearn import XGBClassifier  \n",
        "from sklearn.naive_bayes import GaussianNB\n",
        "from sklearn.tree import DecisionTreeClassifier\n",
        "from sklearn.metrics import log_loss\n",
        "import tensorflow as tf\n",
        "\n",
        "\n",
        "from sklearn.model_selection import train_test_split"
      ],
      "execution_count": 16,
      "outputs": []
    },
    {
      "cell_type": "code",
      "metadata": {
        "id": "ahW9lmlbjdG7",
        "colab_type": "code",
        "colab": {}
      },
      "source": [
        "X_train, X_valid, y_train, y_valid = train_test_split(X_treino_2,Y_treino,test_size=0.3,random_state=1)\n",
        "\n",
        "\n",
        "\n",
        "\n",
        "#y_pred_final = pd.DataFrame()\n",
        "p_2 = pd.DataFrame()\n",
        "p = pd.DataFrame()\n",
        "result3 = pd.DataFrame() \n",
        "\n",
        "#k_vs_score = []\n",
        "k=X_treino_2.shape[1]"
      ],
      "execution_count": 17,
      "outputs": []
    },
    {
      "cell_type": "code",
      "metadata": {
        "id": "DD5rSfAMjbYb",
        "colab_type": "code",
        "colab": {
          "base_uri": "https://localhost:8080/",
          "height": 68
        },
        "outputId": "95913adb-a027-48f9-dbe2-8a8f8d3a289b"
      },
      "source": [
        "print('  -----------------------------------------------------------')\n",
        "print('  -----------------------------------------------------------')\n",
        "print (k)"
      ],
      "execution_count": 18,
      "outputs": [
        {
          "output_type": "stream",
          "text": [
            "  -----------------------------------------------------------\n",
            "  -----------------------------------------------------------\n",
            "793\n"
          ],
          "name": "stdout"
        }
      ]
    },
    {
      "cell_type": "code",
      "metadata": {
        "id": "44Tu72Ckjba4",
        "colab_type": "code",
        "colab": {}
      },
      "source": [
        "#outro modelo\n",
        "\n",
        "from sklearn.feature_selection import RFECV\n",
        "from sklearn.model_selection import StratifiedKFold\n",
        "#from sklearn.feature_selection import RFEdata = load_iris()\n",
        "classifier = xgb.XGBClassifier(objective=\"multi:softprob\",seed=0)  \n",
        "selector = RFECV(estimator=classifier, step=0.1, cv=StratifiedKFold(10)) \n",
        "selector.fit(X_train,  y_train)\n",
        "#print('Optimal number of features: {}'.format(rfecv.n_features_))\n",
        "print('The optimal number of features is {}'.format(selector.n_features_))\n",
        "features = [f for f,s in zip(X_train.columns, selector.support_) if s]\n",
        "print('The selected features are:')\n",
        "print ('{}'.format(features))"
      ],
      "execution_count": null,
      "outputs": []
    },
    {
      "cell_type": "code",
      "metadata": {
        "id": "8tt9yBXFjlta",
        "colab_type": "code",
        "colab": {}
      },
      "source": [
        "\n",
        "plt.figure()\n",
        "plt.xlabel(\"Number of features selected\")\n",
        "plt.ylabel(\"Cross validation score (roc auc)\")\n",
        "plt.plot(range(1, len(selector.grid_scores_) + 1), selector.grid_scores_)\n",
        "plt.savefig('feature_auc_nselected.png', bbox_inches='tight', pad_inches=1)"
      ],
      "execution_count": null,
      "outputs": []
    },
    {
      "cell_type": "code",
      "metadata": {
        "id": "4rZ6iXiijnt2",
        "colab_type": "code",
        "colab": {}
      },
      "source": [
        "\n",
        "X_train_s = X_treino_2[features]\n",
        "\n",
        "classifier.fit(X_train_s, Y_treino)\n",
        "\n",
        "X_test_s = X_teste_2[features]\n",
        "print ('Out of sample auc: {}'.format(classifier.score(X_test_s, Y_teste)))\n",
        "\n",
        "X_sel = X_valid[features]\n",
        "\n",
        "  "
      ],
      "execution_count": null,
      "outputs": []
    },
    {
      "cell_type": "code",
      "metadata": {
        "id": "EnJSdelUjqER",
        "colab_type": "code",
        "colab": {}
      },
      "source": [
        "#outro modelo\n",
        "clf = xgb.XGBClassifier(objective=\"multi:softprob\",seed=0)\n",
        "\n",
        "#ratio = float(np.sum(Y_treino == 1)) / np.sum(Y_treino==0)\n",
        "#clf = xgb.XGBClassifier(missing=9999999999,\n",
        " #               max_depth = 7,\n",
        "  #              n_estimators=1000,\n",
        "   #             learning_rate=0.1, \n",
        "    #            nthread=4,\n",
        "     #           subsample=1.0,\n",
        "      #          colsample_bytree=0.5,\n",
        "       #         min_child_weight = 3,\n",
        "        #        scale_pos_weight = ratio,\n",
        "         #       seed=1301)\n",
        "\n",
        "clf.fit(X_train_s,  y_valid, early_stopping_rounds=50, eval_metric=\"mlogloss\",   eval_set=[(X_train_s, Y_treino), (X_test_s, Y_teste)])\n",
        "sel_test = X_teste_2[features]\n",
        "p['pontos_previsao'] = clf.predict(sel_test, ntree_limit=clf.best_iteration)\n",
        "print ('XGBClassifier')\n",
        "print (f1_score(Y_teste,p,average='weighted'))"
      ],
      "execution_count": null,
      "outputs": []
    }
  ]
}